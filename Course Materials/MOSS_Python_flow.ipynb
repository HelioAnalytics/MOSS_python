{
 "cells": [
  {
   "cell_type": "markdown",
   "metadata": {},
   "source": [
    "<font color=\"white\">.</font> | <font color=\"white\">.</font> | <font color=\"white\">.</font>\n",
    "-- | -- | --\n",
    "![CfHA](https://raw.githubusercontent.com/HelioAnalytics/MOSS_python/master/images/cfha_logo.png) | <h1><font size=\"+3\">MOSS Python Tutorial Series</font></h1> | ![NASA](https://raw.githubusercontent.com/HelioAnalytics/MOSS_python/master/images/nccs_logo.png)\n",
    "\n",
    "---\n",
    "\n",
    "<center><h1>\n",
    "    <font color=\"red\">Python Control Flow</font>  \n",
    "</h1></center>"
   ]
  },
  {
   "cell_type": "markdown",
   "metadata": {},
   "source": [
    "Welcome to [Magnetosphere Online Seminar Series](https://msolss.github.io/MagSeminars/) Python Tutorials !  \n",
    "\n",
    "Note: This tutorial is designed to be run through Google Colab.  The repository version of this file is at https://github.com/HelioAnalytics/MOSS_python/blob/master/Course%20Materials/MOSS_Python_principles.ipynb\n",
    "\n",
    "The tutorial series site is https://github.com/HelioAnalytics/MOSS_python\n",
    "\n",
    "---"
   ]
  },
  {
   "cell_type": "markdown",
   "metadata": {},
   "source": [
    "##  <font color='darkblue'> Control Flow </font>\n",
    "\n",
    "1. if/then/else\n",
    "1. for-loop/else    \n",
    "1. while-loop/else\n",
    "1. functions\n",
    "\n",
    "Some laguages use parentheses (IDL) or braces (C and C++) to control the flow of code or seperate statements. These seperators are required for the code to compile without errors. \n",
    "\n",
    "Python uses **indentation** or **white space**. This is typically easier to read and has the advantage that code is uniformly and consistently indented (which at times may be lost in languages using character seperators). \n",
    "\n",
    "This makes it easier understand and read other people's code; however, commenting is still important!\n",
    "\n",
    "---"
   ]
  },
  {
   "cell_type": "markdown",
   "metadata": {},
   "source": [
    "### <font color='darkblue'> if/then/else </font>\n",
    "\n",
    "**if/then/else** statements evaluate an expression or series of expressions and decide whether the expression is **TRUE** or **FLASE**. This outcome dictates which condition (or block) of the statement is excuted.\n",
    "\n",
    "- If the intial expression is true excute the conditional statement which imidiately follows.\n",
    "- If the intial expression is false evalute the next expression which may be another **if** statement or an **else**.\n",
    "\n",
    "**Remember the indentation controls the flow and defines the condition code statement.**"
   ]
  },
  {
   "cell_type": "code",
   "execution_count": 2,
   "metadata": {},
   "outputs": [
    {
     "name": "stdout",
     "output_type": "stream",
     "text": [
      "a is within the bounds.\n",
      "this is an extra line\n",
      "1e-323\n"
     ]
    }
   ],
   "source": [
    "a = 1.e-323\n",
    "\n",
    "\n",
    "if a == 0.0:\n",
    "    print('zero')\n",
    "elif a > 10.0 or a < -10:\n",
    "    print(\"a is too big\")\n",
    "    if a < 0:\n",
    "        print(\"negative\")\n",
    "    \n",
    "else:\n",
    "    print(\"a is within the bounds.\")\n",
    "    \n",
    "print(\"this is an extra line\")\n",
    "\n",
    "if a < 1.e-1500:\n",
    "    a=0\n",
    "\n",
    "print(a)"
   ]
  },
  {
   "cell_type": "markdown",
   "metadata": {},
   "source": [
    "Things to try :\n",
    "* seting a=0.001  0.00001   etc.   or try   1e-10  1e-50  1e-100   (when is it really zero in python?)\n",
    "* a = 100\n",
    "* a = -5"
   ]
  },
  {
   "cell_type": "markdown",
   "metadata": {},
   "source": [
    "### <font color='darkblue'> Loops </font>\n",
    "\n",
    "Loops are used to sequentially execute a statement or group of statements allowing tasks which need to ran multiple times to be confined within the loop.\n",
    "\n",
    "### <font color='darkblue'> for-loops </font>\n",
    "\n",
    "The for-loop in python runs over an **iterator** and is used to exectute a block of code a fixed number of times. This is different from many other languages which itterate over a sequence of numbers or index specified by a start, end, and step (some languages). Both Matlab and IDL itterate over a sequence a numbers.\n",
    "\n",
    "Lists are the most common iterator to use in the python for-loop; however when working with arrays and data structures, packages like Numpy and Pandas provide several ways to loop over arrays and data structures.\n",
    "\n",
    "In python you can also use the **else** clause (often overlooked) which excutes when the loop as finished."
   ]
  },
  {
   "cell_type": "code",
   "execution_count": 3,
   "metadata": {
    "collapsed": true
   },
   "outputs": [
    {
     "name": "stdout",
     "output_type": "stream",
     "text": [
      "1\n",
      "We're good!\n",
      "3\n",
      "We're good!\n",
      "-1\n",
      "We're good!\n",
      "10\n",
      "We're good!\n",
      "100\n",
      "0\n",
      "We're good!\n",
      "Completed all iterations of the loop!\n"
     ]
    }
   ],
   "source": [
    "# iterating over a list of numbers\n",
    "\n",
    "for i in [1,3,-1,10,100,0]:\n",
    "    print(i)\n",
    "    if i <= 10:\n",
    "        print(\"We're good!\")\n",
    "else:    \n",
    "    print(\"Completed all iterations of the loop!\")"
   ]
  },
  {
   "cell_type": "code",
   "execution_count": 16,
   "metadata": {},
   "outputs": [
    {
     "name": "stdout",
     "output_type": "stream",
     "text": [
      "H\n",
      "D\n",
      "Z\n"
     ]
    }
   ],
   "source": [
    "# iterating over a list of strings\n",
    "\n",
    "w = ['H','D','Z']\n",
    "for s in w:\n",
    "    print(s)"
   ]
  },
  {
   "cell_type": "code",
   "execution_count": 17,
   "metadata": {},
   "outputs": [
    {
     "name": "stdout",
     "output_type": "stream",
     "text": [
      "California ['UCLA', 'UCB', 'UCSD']\n",
      "Alberta ['UofA', 'UofC']\n"
     ]
    }
   ],
   "source": [
    "# iterating over the keys and values\n",
    "# of a dictionary\n",
    "\n",
    "uni_dic = {'California':['UCLA', 'UCB','UCSD'], 'Alberta':['UofA','UofC']}\n",
    "\n",
    "for k in uni_dic:\n",
    "    print(k, uni_dic[k])\n"
   ]
  },
  {
   "cell_type": "code",
   "execution_count": 18,
   "metadata": {},
   "outputs": [
    {
     "name": "stdout",
     "output_type": "stream",
     "text": [
      "5\n",
      "10\n",
      "15\n",
      "20\n",
      "25\n",
      "30\n",
      "35\n",
      "40\n",
      "45\n",
      "50\n",
      "55\n",
      "60\n",
      "65\n",
      "70\n",
      "75\n",
      "80\n",
      "85\n",
      "90\n",
      "95\n"
     ]
    }
   ],
   "source": [
    "# if you prefer looping over a \n",
    "# sequence of number/index \n",
    "# you can use the range() function\n",
    "# use in the previous tutorial \n",
    "\n",
    "for i in range(5,100,5):\n",
    "    print(i)\n",
    "\n"
   ]
  },
  {
   "cell_type": "markdown",
   "metadata": {},
   "source": [
    "### <font color='darkblue'>while-loop </font>\n",
    "\n",
    "The python while-loop requires a conditional statement and excutes as long as the condition is **TRUE**. Similar to the for-loop, it also has an **else** clause."
   ]
  },
  {
   "cell_type": "code",
   "execution_count": 22,
   "metadata": {
    "collapsed": true
   },
   "outputs": [
    {
     "name": "stdout",
     "output_type": "stream",
     "text": [
      "0 0\n",
      "1 1\n",
      "2 3\n",
      "3 6\n",
      "4 10\n",
      "5 15\n",
      "6 21\n",
      "7 28\n",
      "8 36\n",
      "9 45\n",
      "final sum 55\n"
     ]
    }
   ],
   "source": [
    "a = 0\n",
    "total = 0\n",
    "while a<10:\n",
    "    print(a,total)\n",
    "\n",
    "    a += 1\n",
    "    total += a\n",
    "else:\n",
    "    print(\"final sum\",total)\n",
    "    "
   ]
  },
  {
   "cell_type": "markdown",
   "metadata": {
    "collapsed": true
   },
   "source": [
    "Things to try:\n",
    "* sum>10\n",
    "\n",
    "### <font color='darkblue'>Loop Control Statements</font>\n",
    "\n",
    "These are statement which either exit a loop or move onto the next iteration of loop \n",
    "- ```break```, terminate the loop regardless of the condition\n",
    "- ```continue```, move to the next iteration and retest the condition"
   ]
  },
  {
   "cell_type": "code",
   "execution_count": 24,
   "metadata": {
    "collapsed": true
   },
   "outputs": [
    {
     "name": "stdout",
     "output_type": "stream",
     "text": [
      "1\n",
      "We're good!\n",
      "3\n",
      "-1\n",
      "We're good!\n",
      "10\n",
      "We're good!\n",
      "88\n",
      "0\n",
      "We're good!\n",
      "only if there is no break\n"
     ]
    }
   ],
   "source": [
    "for i in [1,3,-1,10,88,0]:\n",
    "    print(i)\n",
    "    \n",
    "    if i == 3: \n",
    "        continue\n",
    "        \n",
    "    if i <= 10:\n",
    "        print(\"We're good!\")\n",
    "        \n",
    "    if i>=90:\n",
    "        print(\"Break!!\")\n",
    "        break\n",
    "else:\n",
    "    print(\"only if there is no break\")"
   ]
  },
  {
   "cell_type": "markdown",
   "metadata": {
    "collapsed": true
   },
   "source": [
    "## <font color='red'> Functions </font>\n",
    "\n",
    "Functions are the classic analog of functions in languages like Fortran and C. However, Python is object oriented and so it has a ```class``` as well, much like C++ and Java.\n",
    "\n",
    "**Note**, in Python we can get additional functionality by importing packages. \n",
    "\n",
    "You can read more about installing packages with ```Anaconda``` [here](https://docs.anaconda.com/anaconda/user-guide/tasks/install-packages/). Most Python packages have excellent installation instructions which can be installed using either ```Anaconda``` or ```pip``` (which comes as part of Anaconda). \n",
    "\n",
    "More on Conda and Pip:\n",
    "- [Understanding Conda and Pip](https://www.anaconda.com/blog/understanding-conda-and-pip)\n",
    "- [Using Pip in a Conda Environment](https://www.anaconda.com/blog/using-pip-in-a-conda-environment)\n"
   ]
  },
  {
   "cell_type": "code",
   "execution_count": 25,
   "metadata": {
    "collapsed": true,
    "scrolled": true
   },
   "outputs": [
    {
     "name": "stdout",
     "output_type": "stream",
     "text": [
      "-2.0\n",
      "0.0\n",
      "2.0\n",
      "end of loop\n",
      "4.0\n",
      "2.0\n"
     ]
    }
   ],
   "source": [
    "# in Python we can get \n",
    "# additional functionality\n",
    "# by importing python packages\n",
    "\n",
    "import math\n",
    "\n",
    "def mysqrt(x):\n",
    "    # this is my sqrt function (comment vs. docstring)\n",
    "    '''\n",
    "    This is the docstring for mysqrt!\n",
    "    \n",
    "    Here is more text!\n",
    "    '''\n",
    "    \n",
    "    if x < 0:\n",
    "        return -math.sqrt(-x)\n",
    "    else:\n",
    "        return math.sqrt(x)\n",
    "\n",
    "    \n",
    "\n",
    "for x2 in [-4.0, 0.0, 4.0]:\n",
    "    #print(x2)\n",
    "    print(mysqrt(x2))\n",
    "    #print(x2)\n",
    "else:\n",
    "    print('end of loop')\n",
    "    \n",
    "print(x2)\n",
    "\n",
    "#this function call also works\n",
    "print(mysqrt(x=x2))"
   ]
  },
  {
   "cell_type": "code",
   "execution_count": 2,
   "metadata": {
    "collapsed": true,
    "scrolled": true
   },
   "outputs": [
    {
     "data": {
      "text/plain": [
       "['__annotations__',\n",
       " '__call__',\n",
       " '__class__',\n",
       " '__closure__',\n",
       " '__code__',\n",
       " '__defaults__',\n",
       " '__delattr__',\n",
       " '__dict__',\n",
       " '__dir__',\n",
       " '__doc__',\n",
       " '__eq__',\n",
       " '__format__',\n",
       " '__ge__',\n",
       " '__get__',\n",
       " '__getattribute__',\n",
       " '__globals__',\n",
       " '__gt__',\n",
       " '__hash__',\n",
       " '__init__',\n",
       " '__init_subclass__',\n",
       " '__kwdefaults__',\n",
       " '__le__',\n",
       " '__lt__',\n",
       " '__module__',\n",
       " '__name__',\n",
       " '__ne__',\n",
       " '__new__',\n",
       " '__qualname__',\n",
       " '__reduce__',\n",
       " '__reduce_ex__',\n",
       " '__repr__',\n",
       " '__setattr__',\n",
       " '__sizeof__',\n",
       " '__str__',\n",
       " '__subclasshook__']"
      ]
     },
     "execution_count": 2,
     "metadata": {},
     "output_type": "execute_result"
    }
   ],
   "source": [
    "dir(mysqrt)"
   ]
  },
  {
   "cell_type": "code",
   "execution_count": 26,
   "metadata": {
    "collapsed": true
   },
   "outputs": [
    {
     "name": "stdout",
     "output_type": "stream",
     "text": [
      "\n",
      "    This is the docstring for mysqrt!\n",
      "    \n",
      "    Here is more text!\n",
      "    \n",
      "Help on function mysqrt in module __main__:\n",
      "\n",
      "mysqrt(x)\n",
      "    This is the docstring for mysqrt!\n",
      "    \n",
      "    Here is more text!\n",
      "\n"
     ]
    }
   ],
   "source": [
    "print(mysqrt.__doc__)\n",
    "help(mysqrt)"
   ]
  },
  {
   "cell_type": "markdown",
   "metadata": {},
   "source": [
    "### Function Arguments\n",
    "\n",
    "- Required Arguments: Arguements passed in the correct order\n",
    "\n",
    "```python\n",
    "a = mysqrt(4)\n",
    "```\n",
    "\n",
    "- Keyword Arguements: Identify the arguements by the parameter name\n",
    "\n",
    "```python\n",
    "a = mysqrt(x=4)\n",
    "```\n",
    "\n",
    "- Default Arguments: If nothing is passed then an argument assuems a predefined (*default*) value.\n",
    "```python\n",
    "a = mysqrt(4,True)\n",
    "a = mysqrt(classic=True, x=4,verbose=True)\n",
    "```\n",
    "\n"
   ]
  },
  {
   "cell_type": "code",
   "execution_count": 30,
   "metadata": {
    "collapsed": true,
    "scrolled": true
   },
   "outputs": [
    {
     "name": "stdout",
     "output_type": "stream",
     "text": [
      "-2.0\n",
      "correct 2.0\n",
      "1.4142135623730951\n",
      "1.4142135623730951\n"
     ]
    }
   ],
   "source": [
    "#Example 1: Default Arguments\n",
    "\n",
    "def mysqrt(x,verbose=False,classic=False):\n",
    "    import math\n",
    "    if classic:\n",
    "        if verbose: print(\"classic\",x)\n",
    "        return math.sqrt(x)\n",
    "    elif x < 0:\n",
    "        if verbose: print(\"fixing\",x)\n",
    "        return -math.sqrt(-x)\n",
    "    else:\n",
    "        if verbose: print(\"correct\",x)\n",
    "        return math.sqrt(x)\n",
    "\n",
    "print(mysqrt(-4.0))\n",
    "print(mysqrt(2.0,True))\n",
    "print(mysqrt(2.0,classic=True))"
   ]
  },
  {
   "cell_type": "markdown",
   "metadata": {},
   "source": [
    "## <font color='red'> Exception Handling </font>\n",
    "\n",
    "Not the error above. Errors or Exceptions disrupt the flow of code in a program and occur when Python cannot handle a particular peice or line of code. This could incluide passing the wrong or incorrect number of arguments to a function. In the case above, the ```math.sqrt( )``` function cannot handle negative numbers.\n",
    "\n",
    "These exceptions can be handled with try/except/else blocks of code. If an error occurs the execution in the try block is transferred to the except block. In this way code can continue even if there's an error. This is helpful when you have a particularly 'buggy' peice of code or are trying to isolate an error.\n"
   ]
  },
  {
   "cell_type": "code",
   "execution_count": 31,
   "metadata": {
    "collapsed": true
   },
   "outputs": [
    {
     "name": "stdout",
     "output_type": "stream",
     "text": [
      "some error, deal with it\n"
     ]
    }
   ],
   "source": [
    "#Example 1: try,except\n",
    "\n",
    "try:\n",
    "    print(mysqrt(-2.0,classic=True))\n",
    "except:\n",
    "    print(\"some error, deal with it\")\n",
    "    "
   ]
  },
  {
   "cell_type": "markdown",
   "metadata": {},
   "source": [
    "You can also define the type of Exception following the **except** which will execute only for that particular exception.\n",
    "\n",
    "A list and description of Exceptions can be found [here](https://www.tutorialspoint.com/python/python_exceptions.htm)."
   ]
  },
  {
   "cell_type": "code",
   "execution_count": null,
   "metadata": {
    "collapsed": true
   },
   "outputs": [],
   "source": [
    "#Example 2: defining the exception\n",
    "\n",
    "try:\n",
    "    print(some_new_variable)\n",
    "    print(mysqrt(-2.0,classic=True))\n",
    "except ValueError:\n",
    "    print(\"Some error\")\n",
    "except NameError:\n",
    "    print(\"NameErrors occur when you try to use a variable that hasn't been defined yet.\")"
   ]
  },
  {
   "cell_type": "markdown",
   "metadata": {},
   "source": [
    "## <font color='red'> Variable Scope </font>\n",
    "\n",
    "As in other languages, objects inside a function are not visible outside and vice versa, but perhaps with a tiny twist.\n",
    "\n",
    "- Global Variables: accessed throughout a program\n",
    "- Local Variables: those defined in a function and can only be accessed within the function"
   ]
  },
  {
   "cell_type": "code",
   "execution_count": 32,
   "metadata": {
    "collapsed": true
   },
   "outputs": [
    {
     "name": "stdout",
     "output_type": "stream",
     "text": [
      "3.0\n",
      "5.0\n"
     ]
    }
   ],
   "source": [
    "#Example 1: Global Variables\n",
    "\n",
    "a1 = 1.0\n",
    "def testa(x):\n",
    "    global a1\n",
    "    print(a1+x)\n",
    "    a1 = a1 + x\n",
    "\n",
    "testa(2.0)\n",
    "testa(2.0)\n"
   ]
  },
  {
   "cell_type": "code",
   "execution_count": 35,
   "metadata": {
    "collapsed": true
   },
   "outputs": [
    {
     "name": "stdout",
     "output_type": "stream",
     "text": [
      "3.0\n",
      "5.0\n"
     ]
    },
    {
     "ename": "NameError",
     "evalue": "name 'y' is not defined",
     "output_type": "error",
     "traceback": [
      "\u001b[1;31m---------------------------------------------------------------------------\u001b[0m",
      "\u001b[1;31mNameError\u001b[0m                                 Traceback (most recent call last)",
      "\u001b[1;32m~\\AppData\\Local\\Temp/ipykernel_22556/759655676.py\u001b[0m in \u001b[0;36m<module>\u001b[1;34m\u001b[0m\n\u001b[0;32m      9\u001b[0m \u001b[0mtesta\u001b[0m\u001b[1;33m(\u001b[0m\u001b[1;36m2.0\u001b[0m\u001b[1;33m)\u001b[0m\u001b[1;33m\u001b[0m\u001b[1;33m\u001b[0m\u001b[0m\n\u001b[0;32m     10\u001b[0m \u001b[0mtesta\u001b[0m\u001b[1;33m(\u001b[0m\u001b[1;36m2.0\u001b[0m\u001b[1;33m)\u001b[0m\u001b[1;33m\u001b[0m\u001b[1;33m\u001b[0m\u001b[0m\n\u001b[1;32m---> 11\u001b[1;33m \u001b[0mprint\u001b[0m\u001b[1;33m(\u001b[0m\u001b[0my\u001b[0m\u001b[1;33m)\u001b[0m\u001b[1;33m\u001b[0m\u001b[1;33m\u001b[0m\u001b[0m\n\u001b[0m",
      "\u001b[1;31mNameError\u001b[0m: name 'y' is not defined"
     ]
    }
   ],
   "source": [
    "#Example 2: Local Variables\n",
    "\n",
    "a1 = 1.0\n",
    "def testa(x):\n",
    "    global a1\n",
    "    print(a1+x)\n",
    "    a1 = a1 + x\n",
    "    y = a1 - x\n",
    "testa(2.0)\n",
    "testa(2.0)\n",
    "print(y)"
   ]
  }
 ],
 "metadata": {
  "anaconda-cloud": {},
  "kernelspec": {
   "display_name": "Python 3",
   "language": "python",
   "name": "python3"
  },
  "language_info": {
   "codemirror_mode": {
    "name": "ipython",
    "version": 3
   },
   "file_extension": ".py",
   "mimetype": "text/x-python",
   "name": "python",
   "nbconvert_exporter": "python",
   "pygments_lexer": "ipython3",
   "version": "3.7.3"
  }
 },
 "nbformat": 4,
 "nbformat_minor": 1
}
