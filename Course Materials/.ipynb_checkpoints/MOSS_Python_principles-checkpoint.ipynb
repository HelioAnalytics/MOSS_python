{
 "cells": [
  {
   "cell_type": "markdown",
   "metadata": {
    "id": "vNZr3TFfYmGs"
   },
   "source": [
    "<font color=\"white\">.</font> | <font color=\"white\">.</font> | <font color=\"white\">.</font>\n",
    "-- | -- | --\n",
    "![CfHA](https://raw.githubusercontent.com/HelioAnalytics/MOSS_python/master/images/cfha_logo.png) | <h1><font size=\"+3\">MOSS Python Tutorial Series</font></h1> | ![NASA](https://raw.githubusercontent.com/HelioAnalytics/MOSS_python/master/images/nccs_logo.png)\n",
    "\n",
    "---\n",
    "\n",
    "<center><h1>\n",
    "    <font color=\"red\">Basic Python Principles</font>  \n",
    "</h1></center>"
   ]
  },
  {
   "cell_type": "markdown",
   "metadata": {},
   "source": [
    "Welcome to [Magnetosphere Online Seminar Series](https://msolss.github.io/MagSeminars/) Python Tutorials !  \n",
    "\n",
    "Note: This tutorial is designed to be run through Google Colab.  The repository version of this file is at https://github.com/HelioAnalytics/MOSS_python/blob/master/Course%20Materials/MOSS_Python_principles.ipynb\n",
    "\n",
    "The tutorial series site is https://github.com/HelioAnalytics/MOSS_python\n",
    "\n",
    "---"
   ]
  },
  {
   "cell_type": "markdown",
   "metadata": {
    "slideshow": {
     "slide_type": "slide"
    }
   },
   "source": [
    "## <font color='red'> Review and Preview</font>"
   ]
  },
  {
   "cell_type": "markdown",
   "metadata": {},
   "source": [
    "Remember from the previous lesson that this is Jupyter notebook (commonly with extension .iypnb), and \n",
    "there are different types of cells in a Jupyter notebook.  This is a \"text\" or \"markdown\" cell, which facilitates text \n",
    "display with web page formatting.  There are also \"code\" cells, which contain a series of commands to be executed.  These are not executed automatically, you either go to the cell and hit \"run\" above, or a shortcut is hitting \n",
    "Shift + Enter.  "
   ]
  },
  {
   "cell_type": "code",
   "execution_count": 68,
   "metadata": {},
   "outputs": [],
   "source": [
    "# Hi!  I'm a code cell.  To the left you should see In[ ]:  with nothing inside the square brackets when you start. \n",
    "# If the cell is executed, you'll see a number in the brackets, telling you the order that the cell was \n",
    "# executed.  Click the arrow to the left, (this is assuming you're accessing this in Google Colab, if you're \n",
    "# not then there may be a different way to run a single cell. In general, hitting Shift + Enter \n",
    "# while the cell is highlighted will execute the commands in the cell too. "
   ]
  },
  {
   "cell_type": "code",
   "execution_count": 69,
   "metadata": {},
   "outputs": [
    {
     "data": {
      "text/plain": [
       "4"
      ]
     },
     "execution_count": 69,
     "metadata": {},
     "output_type": "execute_result"
    }
   ],
   "source": [
    "# The cell above didn't have any output. Outputs also have square brackets and an order of execution. \n",
    "# Try running this one a couple of times and see the numbers the square brackets increase:\n",
    "\n",
    "2*2"
   ]
  },
  {
   "cell_type": "markdown",
   "metadata": {},
   "source": [
    "Also remember from the previous lesson that if you want to save your edits in the notebook on Google Colab, you'll have to download this or save a copy. The edits you make to this notebook on Google Colab will not be saved to the\n",
    "original file.  "
   ]
  },
  {
   "cell_type": "markdown",
   "metadata": {
    "slideshow": {
     "slide_type": "subslide"
    }
   },
   "source": [
    "<b> Learning Python </b>\n",
    "\n",
    "As with most programming languages, learning Python involves many elements:\n",
    "- basic syntax and i/o\n",
    "- data types and variables\n",
    "- functions and mathematical operations\n",
    "- loops and conditionals\n",
    "- display of data \n",
    "- extensions, packages and libraries"
   ]
  },
  {
   "cell_type": "markdown",
   "metadata": {},
   "source": [
    "It would be difficult to cover all of these items in a single lecture. This tutorial will familiarize you with syntax and data types, and prepare you for coming tutorials on data manipulation, display/graphics, and machine learning."
   ]
  },
  {
   "cell_type": "markdown",
   "metadata": {},
   "source": [
    "## <font color='red'> Simple variables</font>"
   ]
  },
  {
   "cell_type": "code",
   "execution_count": 70,
   "metadata": {},
   "outputs": [
    {
     "name": "stdout",
     "output_type": "stream",
     "text": [
      "a, b, and c are  1.0 2 344444str\n",
      "Now a, b, and c are  1.0 2 3.1\n"
     ]
    }
   ],
   "source": [
    "# This is a comment within in a 'code cell'  \n",
    "# Anything following the '#' is ignored by the interpreter. \n",
    "# Comments are included to make code more readable and easier to follow, especially by someone who \n",
    "# didn't write the code. \n",
    "\n",
    "# Python, as opposed to other languages, has dynamic types. \n",
    "# For instance, in C you need to declare variable types that in general cannot be mixed. \n",
    "#\n",
    "# int variable_1 = 1;\n",
    "# float variable_2 = 38.44; \n",
    "\n",
    "# In Python, we can do something simpler like: \n",
    "a = 1.  #This is a float\n",
    "b = 2   #This is an integer, note b=2L is a long integer\n",
    "c = \"344444str\" #This is a string\n",
    "\n",
    "print('a, b, and c are ',a,b,c)\n",
    "\n",
    "# and then do this \n",
    "c = 3.1 \n",
    "print('Now a, b, and c are ',a,b,c)\n",
    "\n",
    "# and then this\n",
    "c = \"string\"\n",
    "\n",
    "#in C this would cause an error!"
   ]
  },
  {
   "cell_type": "markdown",
   "metadata": {},
   "source": [
    "We're not saying that Python doesn't have its potential pitfalls. There are things that seem straightforward\n",
    "in other languages that can be difficult to handle in Python.  However, the data type declarations couldn't be easier! "
   ]
  },
  {
   "cell_type": "markdown",
   "metadata": {},
   "source": [
    "## <font color='darkblue'> Exercise 1:  Create and manipulate different variable types</font>"
   ]
  },
  {
   "cell_type": "code",
   "execution_count": 71,
   "metadata": {},
   "outputs": [
    {
     "data": {
      "text/plain": [
       "int"
      ]
     },
     "execution_count": 71,
     "metadata": {},
     "output_type": "execute_result"
    }
   ],
   "source": [
    "a = 7\n",
    "# What type of variable is a?\n",
    "\n",
    "type(a)   \n",
    "\n",
    "# See the output below this box.\n",
    "# (Notice how you didn't have to tell it to print!  If it was b=type(a), however, it would\n",
    "# not have printed anything.)"
   ]
  },
  {
   "cell_type": "code",
   "execution_count": 72,
   "metadata": {},
   "outputs": [],
   "source": [
    "# Try defining a variable called \"a\" to be an integer equal to 7. Check by entering type(a) to\n",
    "# be sure it's an integer. You can type (print(a, type(a)) to see both.\n",
    "\n",
    "# Then create a string called \"b\" consisting of the character \"7\". Check by entering type(b) to\n",
    "# be sure you've got a string.  \n",
    "\n",
    "# When you've got a and b defined properly, print(a*b) and see what happens.  Did it make sense?"
   ]
  },
  {
   "cell_type": "code",
   "execution_count": 73,
   "metadata": {},
   "outputs": [],
   "source": [
    "# Edit the lines below and remove the pound character before the lines below so you can execute your commands. \n",
    "\n",
    "# a = integer equal to 7\n",
    "# b = a string containing the character 7 \n",
    "# print(a*b)"
   ]
  },
  {
   "cell_type": "code",
   "execution_count": 74,
   "metadata": {},
   "outputs": [],
   "source": [
    "# Now do it again, only with c defined as floating point of value 7 instead of an integer. What happened?\n",
    "# c = floating point of value 7\n",
    "# b = same as above\n",
    "# print(c*b)"
   ]
  },
  {
   "cell_type": "code",
   "execution_count": 85,
   "metadata": {},
   "outputs": [],
   "source": [
    "# Now instead of a string with the character 7, let's spell it out!  Try the following:\n",
    "\n",
    "# a = integer equal to 7\n",
    "# b = string containing the character 7\n",
    "# c = floating point of value 7\n",
    "# d = string with the word 'seven'\n",
    "# print(a*d)\n",
    "\n",
    "# You can also try adding, subtracting, and dividing the different variables.  \n",
    "# Did anything unexpected or surprising happen?  Please say so in the chat!\n",
    "a = 7\n",
    "b = '7'\n",
    "c = 7.\n",
    "d = 'seven'"
   ]
  },
  {
   "cell_type": "markdown",
   "metadata": {
    "id": "FOlu3dX2YmG2"
   },
   "source": [
    "## <font color='red'> More variable types</font>"
   ]
  },
  {
   "cell_type": "markdown",
   "metadata": {
    "id": "k9QDfbZXlEEH"
   },
   "source": [
    "***If the previous exercise seemed frustrating, don't get discouraged!*** Think of it like learning to conjugate verbs in a foreign language. So many tenses!  So many ways to just express the verb \"to be!\" At first it may be \n",
    "difficult to keep track of all of the different tenses, and you have to keep looking them up.  Then one day\n",
    "you're using the proper verb forms without giving it a second thought!"
   ]
  },
  {
   "cell_type": "markdown",
   "metadata": {
    "id": "IlNsvf5SqAut"
   },
   "source": [
    "Next to dynamic typing, one of the powers of python are a number of built-in data structures (lists, dictionaries, tuples and sets) that together with their built-in methods make for a very flexible scripting language.  Here is a quick summary how you would initialize them in python:\n",
    "\n",
    "| data type |   assignment example  |   len(a)   |\n",
    "| --------- | --------------------- | ---------- |\n",
    "| list        | a = [1,2,3] |  3  |\n",
    "| tuple      | a = (1,2,3)|  3  |\n",
    "| dictionary  |   a = {'1':1 ,'2':2 , '3':3}|  3  |\n",
    "| set        |  a = {1,2,3,2,1}|  3 |"
   ]
  },
  {
   "cell_type": "markdown",
   "metadata": {},
   "source": [
    "We're going to quickly run through these so you can be ready for the advanced data structures that make\n",
    "Heliophysics data analysis easy!\n",
    "(Kyle's examples)"
   ]
  },
  {
   "cell_type": "markdown",
   "metadata": {},
   "source": [
    "## <font color='darkblue'> Exercise 2:  Create the Helio2050 Mission!</font>"
   ]
  },
  {
   "cell_type": "markdown",
   "metadata": {},
   "source": [
    "Create tuples and lists for mag, ionospheric, heliospheric and solar instruments, and make a set \n",
    "that constitutes the Helio2050 constellation!"
   ]
  },
  {
   "cell_type": "markdown",
   "metadata": {},
   "source": [
    "## <font color='red'> Basic manipulation syntax </font>"
   ]
  },
  {
   "cell_type": "markdown",
   "metadata": {
    "id": "_JepxiuOYmG3"
   },
   "source": [
    "Kyle's referencing vs. assignment"
   ]
  },
  {
   "cell_type": "markdown",
   "metadata": {
    "id": "4jCf7DBv2xHz"
   },
   "source": [
    "Kyle's operators\n",
    "\n"
   ]
  },
  {
   "cell_type": "markdown",
   "metadata": {},
   "source": [
    "## <font color='darkblue'> Exercise 3:  Create the Helio2075 Mission</font>"
   ]
  },
  {
   "cell_type": "markdown",
   "metadata": {},
   "source": [
    "Take the items we created and try to define an expanded mission, examine previous tuples and \n",
    "set them up to have some referencing vs. assignment problems. "
   ]
  },
  {
   "cell_type": "markdown",
   "metadata": {},
   "source": [
    "## <font color='red'> Homework! </font>"
   ]
  },
  {
   "cell_type": "markdown",
   "metadata": {},
   "source": [
    "Yes, homework!\n",
    "\n",
    "What should we do?  I can come up with something... \n",
    "\n",
    "**First,** \n",
    "\n",
    "**Second,** [fill out the survey](https://docs.google.com/forms/d/e/1FAIpQLSfDJvmWPiJDmN2yWXMXuxgxVE9Z7M-CI7S-iUy2oPnEUyHxRg/viewform?usp=sf_link) to let us know what you'd like to see in future tutorials.\n"
   ]
  },
  {
   "cell_type": "markdown",
   "metadata": {},
   "source": [
    "## <font color='red'> Announcements </font>\n"
   ]
  },
  {
   "cell_type": "markdown",
   "metadata": {},
   "source": [
    "## 28 March 2022: \n",
    "\n",
    "\n",
    "### Python in Heliophysics Summer School  \n",
    "30 May 2022 – Friday, 3 June 2022 Madrid, Spain and Virtual\n",
    "This event is free and open to all graduate students, early career scientists, and established scientists looking to transition to Python in the Heliophysics and Space Weather disciplines.\n",
    "\n",
    "### Special issue: Python in Space Physics\n",
    "Frontiers in Astronomy and Space Sciences and Frontiers in Physics are currently soliciting manuscripts for a special issue on Python within the space physics community.  If you have a package you'd like to publish or an established package whose scientific impact you'd like to review, please consider submitting your work.  The science disciplines encompass geospace (Earth's atmosphere, ionosphere, and magnetosphere), planetary sciences, solar physics, and other solar system science disciplines.  Abstracts are due by 31 May 2022, and manuscripts are due by 29 July 2022.  You can learn more about the special issue here:  https://www.frontiersin.org/research-topics/33555/snakes-on-a-spaceship-an-overview-of-python-in-space-physics\n",
    "Fromm Angeline Burrell, John Coxon, Leslie Lamarche, Michael Aye, Sophie Murray\n",
    "\n"
   ]
  },
  {
   "cell_type": "markdown",
   "metadata": {},
   "source": [
    "### Next MOSS Seminar:  \n",
    "FIX THIS 2022 March 7 at 12pm will be our second Early Career Seminar. Leng Ying Khoo will be presenting \"On the challenges of measuring energetic particles in the inner belt: A Geant4 simulation of an energetic particle detector instrument, REPTile-2\" and Nithin Sivadas will be discussing \"Uncertainty in the solar wind propagation may explain polar cap potential saturation\".   https://msolss.github.io/MagSeminars/abstracts.html"
   ]
  },
  {
   "cell_type": "code",
   "execution_count": null,
   "metadata": {},
   "outputs": [],
   "source": []
  }
 ],
 "metadata": {
  "celltoolbar": "Slideshow",
  "colab": {
   "name": "MOSS_Python_intro.ipynb",
   "provenance": [],
   "toc_visible": true
  },
  "kernelspec": {
   "display_name": "Python 3",
   "language": "python",
   "name": "python3"
  },
  "language_info": {
   "codemirror_mode": {
    "name": "ipython",
    "version": 3
   },
   "file_extension": ".py",
   "mimetype": "text/x-python",
   "name": "python",
   "nbconvert_exporter": "python",
   "pygments_lexer": "ipython3",
   "version": "3.8.8"
  }
 },
 "nbformat": 4,
 "nbformat_minor": 4
}
