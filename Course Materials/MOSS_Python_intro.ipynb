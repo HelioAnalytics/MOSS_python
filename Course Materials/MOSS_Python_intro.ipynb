{
 "cells": [
  {
   "cell_type": "markdown",
   "metadata": {
    "id": "vNZr3TFfYmGs"
   },
   "source": [
    "<font color=\"white\">.</font> | <font color=\"white\">.</font> | <font color=\"white\">.</font>\n",
    "-- | -- | --\n",
    "![CfHA](https://raw.githubusercontent.com/HelioAnalytics/MOSS_python/master/images/cfha_logo.png) | <h1><font size=\"+3\">MOSS Python Tutorial Series</font></h1> | ![NASA](https://raw.githubusercontent.com/HelioAnalytics/MOSS_python/master/images/nccs_logo.png)\n",
    "\n",
    "---\n",
    "\n",
    "<center><h1>\n",
    "    <font color=\"red\">Introduction to Python and Code Sharing</font>  \n",
    "</h1></center>"
   ]
  },
  {
   "cell_type": "markdown",
   "metadata": {},
   "source": [
    "Note: This tutorial is designed to be run through Google Colab.  The repository version of this file is at https://github.com/HelioAnalytics/MOSS_python/blob/master/Course%20Materials/MOSS_Python_intro.ipynb\n",
    "\n",
    "The tutorial series site is https://github.com/HelioAnalytics/MOSS_python\n",
    "\n",
    "---"
   ]
  },
  {
   "cell_type": "markdown",
   "metadata": {},
   "source": [
    "## <font color='red'> Python code files </font>\n"
   ]
  },
  {
   "cell_type": "markdown",
   "metadata": {
    "id": "FOlu3dX2YmG2"
   },
   "source": [
    "\n",
    "1. If you have Python running on your computer, you can create a new ASCII/text document named `my_first_python_file.py` and enter the following text:\n",
    "\n",
    "```python\n",
    "#!/usr/bin/env python\n",
    "print('Hello World!')\n",
    "```\n",
    " \n",
    "2. Save the document and then in your terminal/Anaconda prompt, go to the directory containing the newly created file.\n",
    "\n",
    "\n",
    "3. From the terminal/Anaconda prompt, type:\n",
    "\n",
    "      `python my_first_python_file.py`\n",
    "\n",
    "\n",
    "4. You should see the output on the screen:\n",
    "\n",
    "![](https://raw.githubusercontent.com/HelioAnalytics/MOSS_python/master/images/HelloWorld.png)\n",
    "\n"
   ]
  },
  {
   "cell_type": "markdown",
   "metadata": {
    "id": "k9QDfbZXlEEH"
   },
   "source": [
    "***However, this course does not require you to have Python installed.***  This is a \"Jupyter notebook\" and you can use and edit it in a web browser on Google Colab. You can interact with this notebook and practice commands.  \n",
    "\n",
    "*Note: You cannot save changes to this notebook in Google Colab.  If you want to keep the changes select the file menu above and either save it to Google Drive or download a local copy to your computer.*\n",
    "\n",
    "There are two types of cells in this notebook: Code  and Text.  Text cells use markup (text formatting) language and can also include images, like the output image above.  Below is a cell that has someone else's name in it.  Double click on it and make it your own name.  When you're finished, hit Shift + Return to exit.\n",
    "\n",
    "---\n",
    "\n",
    "\n"
   ]
  },
  {
   "cell_type": "markdown",
   "metadata": {
    "id": "IlNsvf5SqAut"
   },
   "source": [
    "My name is Tyler Durden."
   ]
  },
  {
   "cell_type": "markdown",
   "metadata": {},
   "source": [
    "## <font color='red'> Jupyter Notebooks </font>"
   ]
  },
  {
   "cell_type": "markdown",
   "metadata": {
    "id": "_JepxiuOYmG3"
   },
   "source": [
    "Jupyter notebooks are an interactive form of Python code (and other types of code, though python is most common). The Python script above had the extension .py, while Jupyter Python notebooks have extension .ipynb  \n",
    "\n",
    "There are several advantages to coding with Jupyter notebooks: \n",
    "\n",
    "* They are a useful hybrid of the interactive terminal and the self-contained script. It is a document format that allows executable code, formatted text, graphics, and even interactive features to be combined into a single document. \n",
    "* Though the notebook began as a Python-only format, it has since been made compatible with a large number of programming languages. \n",
    "* The notebook is useful both as a development environment, and as a means of sharing work via rich computational and data-driven narratives that mix together code, figures, data, and text.\n",
    "\n",
    "The Jupyter notebook's hybrid of code, output display, and annotate make it ideal for collaboration and sharing.  \n"
   ]
  },
  {
   "cell_type": "markdown",
   "metadata": {
    "id": "4jCf7DBv2xHz"
   },
   "source": [
    "So far all of the cells in this notebook have been text.  If you want to add another text cell, click + Text in the menu above.  A new cell will appear and you can add whatever you like.  The formatting menu contains common markup commands (like boldface, indenting, bullets, etc.).  When you are finished editing you can hit Shift + Enter. \n",
    "\n",
    "\n"
   ]
  },
  {
   "cell_type": "markdown",
   "metadata": {
    "id": "7eGQDEO23Yx2"
   },
   "source": [
    "#### <font color='red'> Python Code </font>"
   ]
  },
  {
   "cell_type": "markdown",
   "metadata": {
    "id": "go-ws5qh2u61"
   },
   "source": [
    "In the Python Code Files example, you saw that the command to print \"Hello World!\" is:\n",
    "```\n",
    "print('Hello World!')\n",
    "```\n",
    "\n",
    "The following cell is a Code cell with that command. Code cells are indicated by square brackets [ ] in the left margin.  If the brackets contain a number, that indicates the order in which a cell was executed.  \n",
    "\n",
    "Advance to the next several cells, and Shift + Return each to execute the commands:  "
   ]
  },
  {
   "cell_type": "code",
   "execution_count": 4,
   "metadata": {
    "id": "WiMfT6bZ2vYF"
   },
   "outputs": [
    {
     "name": "stdout",
     "output_type": "stream",
     "text": [
      "Hello World!\n"
     ]
    }
   ],
   "source": [
    "print('Hello World!')"
   ]
  },
  {
   "cell_type": "code",
   "execution_count": 5,
   "metadata": {},
   "outputs": [
    {
     "name": "stdout",
     "output_type": "stream",
     "text": [
      "Hello to you too!\n"
     ]
    }
   ],
   "source": [
    "print('Hello to you too!')"
   ]
  },
  {
   "cell_type": "code",
   "execution_count": 4,
   "metadata": {},
   "outputs": [],
   "source": [
    "index = 0"
   ]
  },
  {
   "cell_type": "markdown",
   "metadata": {},
   "source": [
    "What numbers do you see next to the cells?  You should see [1] then [2] then [3] if you executed them in order.  Now go back to the first cell and Shift + Return again.  Because that was the most recent command executed, it should show [4] now. \n",
    "\n",
    "That's one thing to be careful of when you are manually executing commands in a notebook - you can execute them out of order!  Go to the command cell below, and execute it several times to see what happens.  "
   ]
  },
  {
   "cell_type": "code",
   "execution_count": 5,
   "metadata": {},
   "outputs": [
    {
     "name": "stdout",
     "output_type": "stream",
     "text": [
      "Index squared is 4\n"
     ]
    }
   ],
   "source": [
    "index = index + 2\n",
    "print('Index squared is', index * index)"
   ]
  },
  {
   "cell_type": "markdown",
   "metadata": {},
   "source": [
    "As you might imagine, errors can arise if cells are executed out of order, especially if you are editing and debugging on the fly! If you restart your kernel or runtime (depending on how you are accessing this file) it removes the variables and returns the notebook to its original state.  Go to the \"Runtime\" menu above (or Kernel if you're in JupyterLab) and choose \"Restart runtime.\"  Now try running a code cell with a variable again.  What happened? "
   ]
  },
  {
   "cell_type": "markdown",
   "metadata": {},
   "source": [
    "## <font color='red'> Sharing Code and Collaborating </font>"
   ]
  },
  {
   "cell_type": "markdown",
   "metadata": {},
   "source": [
    "As stated earlier, if you are accessing this in Google Colab, edits to the original file cannot be saved unless you have edit permission. If you want to save your edits, you need to choose an option in the \"File\" menu above.  \n",
    "\n",
    "Once you've saved your file, you may want to share it with others. There are many advantages to sharing code:\n",
    "- It saves time - when one person figures out something, others don't have to.\n",
    "- Work is straightforward to validate.  All the steps from initial data acquisition to final production of statistics and graphics can be shared in an easily reproducible form. \n",
    "- You own code can benefit. People who use your code can find ways to improve it, and if there is an error it is much more likely to be found."
   ]
  },
  {
   "cell_type": "markdown",
   "metadata": {},
   "source": [
    "The most common way people share code is through Github.  "
   ]
  },
  {
   "cell_type": "markdown",
   "metadata": {},
   "source": [
    "## <font color='red'> Homework! </font>"
   ]
  },
  {
   "cell_type": "markdown",
   "metadata": {},
   "source": []
  },
  {
   "cell_type": "markdown",
   "metadata": {
    "id": "dTUvaBrfYmG5"
   },
   "source": [
    "## Links for Windows Users\n",
    "\n",
    "- <a href=\"https://docs.python.org/3/faq/windows.html\">Python on Windows FAQ</a>\n",
    "- <a href=\"https://docs.microsoft.com/en-us/windows/python/beginners\"> Get started using Python on Windows for beginners</a>\n",
    "- <a href=\"https://helpdeskgeek.com/how-to/how-to-use-python-on-windows/\">How to Use Python on Windows</a>\n",
    "- <a href=\"https://www.jcchouinard.com/install-python-with-anaconda-on-windows/\">The 10-Step Guide To Install Python With Anaconda [On Windows]</a>"
   ]
  },
  {
   "cell_type": "code",
   "execution_count": null,
   "metadata": {
    "id": "0i3sfyRMYmG6"
   },
   "outputs": [],
   "source": []
  }
 ],
 "metadata": {
  "celltoolbar": "Slideshow",
  "colab": {
   "name": "MOSS_Python_intro.ipynb",
   "provenance": [],
   "toc_visible": true
  },
  "kernelspec": {
   "display_name": "Python 3",
   "language": "python",
   "name": "python3"
  },
  "language_info": {
   "codemirror_mode": {
    "name": "ipython",
    "version": 3
   },
   "file_extension": ".py",
   "mimetype": "text/x-python",
   "name": "python",
   "nbconvert_exporter": "python",
   "pygments_lexer": "ipython3",
   "version": "3.8.8"
  }
 },
 "nbformat": 4,
 "nbformat_minor": 4
}
